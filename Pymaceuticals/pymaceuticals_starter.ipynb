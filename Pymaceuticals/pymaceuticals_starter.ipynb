{
 "cells": [
  {
   "cell_type": "markdown",
   "metadata": {},
   "source": [
    "# Observations and Insights "
   ]
  },
  {
   "cell_type": "markdown",
   "metadata": {},
   "source": [
    "Based on the analysis conducted below, we can reach the following observations: \n",
    "\n",
    "1. Based on the summary analysis of the tumor growth for all the mice in each drug regimen, the following four drugs appear to be the most promising in decreasing or minizing the increase of tumor growth: Capomulin, Ramicane, Propriva, Ceftamin. The first two regimens show a decrease in tumor growth and the last two have the smallest growth compared to the other drug regimens.\n",
    "\n",
    "2. There appears to be a strong correlation between a mouse's weight and tumor size when looking at the Capomulin drug regimen data.\n",
    "\n",
    "3. Based on the summary data of all drug regimens, it appears as though the drug Ketapril led to worse outcomes than a mouse who was given a placebo. It appears as though there was a slightly larger increase in the tumor volume when compared to mice in the placebo group but further analysis is needed here. "
   ]
  },
  {
   "cell_type": "markdown",
   "metadata": {},
   "source": [
    "# Code"
   ]
  },
  {
   "cell_type": "code",
   "execution_count": 1,
   "metadata": {},
   "outputs": [],
   "source": [
    "%matplotlib inline"
   ]
  },
  {
   "cell_type": "code",
   "execution_count": 122,
   "metadata": {},
   "outputs": [],
   "source": [
    "# Dependencies and Setup\n",
    "import matplotlib.pyplot as plt\n",
    "import pandas as pd\n",
    "import scipy.stats as stats\n",
    "\n",
    "# Study data files\n",
    "mouse_metadata_path = \"data/Mouse_metadata.csv\"\n",
    "study_results_path = \"data/Study_results.csv\"\n",
    "\n",
    "# Read the mouse data and the study results\n",
    "mouse_metadata = pd.read_csv(mouse_metadata_path)\n",
    "study_results = pd.read_csv(study_results_path)\n",
    "\n",
    "# Combine the data into a single dataset\n",
    "combined_mice_df = pd.merge(study_results, mouse_metadata, how=\"outer\", on=\"Mouse ID\")\n"
   ]
  },
  {
   "cell_type": "code",
   "execution_count": 3,
   "metadata": {},
   "outputs": [
    {
     "data": {
      "text/html": [
       "<div>\n",
       "<style scoped>\n",
       "    .dataframe tbody tr th:only-of-type {\n",
       "        vertical-align: middle;\n",
       "    }\n",
       "\n",
       "    .dataframe tbody tr th {\n",
       "        vertical-align: top;\n",
       "    }\n",
       "\n",
       "    .dataframe thead th {\n",
       "        text-align: right;\n",
       "    }\n",
       "</style>\n",
       "<table border=\"1\" class=\"dataframe\">\n",
       "  <thead>\n",
       "    <tr style=\"text-align: right;\">\n",
       "      <th></th>\n",
       "      <th>Mouse ID</th>\n",
       "      <th>Timepoint</th>\n",
       "      <th>Tumor Volume (mm3)</th>\n",
       "      <th>Metastatic Sites</th>\n",
       "      <th>Drug Regimen</th>\n",
       "      <th>Sex</th>\n",
       "      <th>Age_months</th>\n",
       "      <th>Weight (g)</th>\n",
       "    </tr>\n",
       "  </thead>\n",
       "  <tbody>\n",
       "    <tr>\n",
       "      <th>898</th>\n",
       "      <td>a203</td>\n",
       "      <td>0</td>\n",
       "      <td>45.000000</td>\n",
       "      <td>0</td>\n",
       "      <td>Infubinol</td>\n",
       "      <td>Female</td>\n",
       "      <td>20</td>\n",
       "      <td>23</td>\n",
       "    </tr>\n",
       "    <tr>\n",
       "      <th>899</th>\n",
       "      <td>a203</td>\n",
       "      <td>5</td>\n",
       "      <td>48.508468</td>\n",
       "      <td>0</td>\n",
       "      <td>Infubinol</td>\n",
       "      <td>Female</td>\n",
       "      <td>20</td>\n",
       "      <td>23</td>\n",
       "    </tr>\n",
       "    <tr>\n",
       "      <th>900</th>\n",
       "      <td>a203</td>\n",
       "      <td>10</td>\n",
       "      <td>51.852437</td>\n",
       "      <td>1</td>\n",
       "      <td>Infubinol</td>\n",
       "      <td>Female</td>\n",
       "      <td>20</td>\n",
       "      <td>23</td>\n",
       "    </tr>\n",
       "    <tr>\n",
       "      <th>901</th>\n",
       "      <td>a203</td>\n",
       "      <td>15</td>\n",
       "      <td>52.777870</td>\n",
       "      <td>1</td>\n",
       "      <td>Infubinol</td>\n",
       "      <td>Female</td>\n",
       "      <td>20</td>\n",
       "      <td>23</td>\n",
       "    </tr>\n",
       "    <tr>\n",
       "      <th>902</th>\n",
       "      <td>a203</td>\n",
       "      <td>20</td>\n",
       "      <td>55.173336</td>\n",
       "      <td>1</td>\n",
       "      <td>Infubinol</td>\n",
       "      <td>Female</td>\n",
       "      <td>20</td>\n",
       "      <td>23</td>\n",
       "    </tr>\n",
       "    <tr>\n",
       "      <th>...</th>\n",
       "      <td>...</td>\n",
       "      <td>...</td>\n",
       "      <td>...</td>\n",
       "      <td>...</td>\n",
       "      <td>...</td>\n",
       "      <td>...</td>\n",
       "      <td>...</td>\n",
       "      <td>...</td>\n",
       "    </tr>\n",
       "    <tr>\n",
       "      <th>105</th>\n",
       "      <td>z969</td>\n",
       "      <td>25</td>\n",
       "      <td>63.145652</td>\n",
       "      <td>2</td>\n",
       "      <td>Naftisol</td>\n",
       "      <td>Male</td>\n",
       "      <td>9</td>\n",
       "      <td>30</td>\n",
       "    </tr>\n",
       "    <tr>\n",
       "      <th>106</th>\n",
       "      <td>z969</td>\n",
       "      <td>30</td>\n",
       "      <td>65.841013</td>\n",
       "      <td>3</td>\n",
       "      <td>Naftisol</td>\n",
       "      <td>Male</td>\n",
       "      <td>9</td>\n",
       "      <td>30</td>\n",
       "    </tr>\n",
       "    <tr>\n",
       "      <th>107</th>\n",
       "      <td>z969</td>\n",
       "      <td>35</td>\n",
       "      <td>69.176246</td>\n",
       "      <td>4</td>\n",
       "      <td>Naftisol</td>\n",
       "      <td>Male</td>\n",
       "      <td>9</td>\n",
       "      <td>30</td>\n",
       "    </tr>\n",
       "    <tr>\n",
       "      <th>108</th>\n",
       "      <td>z969</td>\n",
       "      <td>40</td>\n",
       "      <td>70.314904</td>\n",
       "      <td>4</td>\n",
       "      <td>Naftisol</td>\n",
       "      <td>Male</td>\n",
       "      <td>9</td>\n",
       "      <td>30</td>\n",
       "    </tr>\n",
       "    <tr>\n",
       "      <th>109</th>\n",
       "      <td>z969</td>\n",
       "      <td>45</td>\n",
       "      <td>73.867845</td>\n",
       "      <td>4</td>\n",
       "      <td>Naftisol</td>\n",
       "      <td>Male</td>\n",
       "      <td>9</td>\n",
       "      <td>30</td>\n",
       "    </tr>\n",
       "  </tbody>\n",
       "</table>\n",
       "<p>1893 rows × 8 columns</p>\n",
       "</div>"
      ],
      "text/plain": [
       "    Mouse ID  Timepoint  Tumor Volume (mm3)  Metastatic Sites Drug Regimen  \\\n",
       "898     a203          0           45.000000                 0    Infubinol   \n",
       "899     a203          5           48.508468                 0    Infubinol   \n",
       "900     a203         10           51.852437                 1    Infubinol   \n",
       "901     a203         15           52.777870                 1    Infubinol   \n",
       "902     a203         20           55.173336                 1    Infubinol   \n",
       "..       ...        ...                 ...               ...          ...   \n",
       "105     z969         25           63.145652                 2     Naftisol   \n",
       "106     z969         30           65.841013                 3     Naftisol   \n",
       "107     z969         35           69.176246                 4     Naftisol   \n",
       "108     z969         40           70.314904                 4     Naftisol   \n",
       "109     z969         45           73.867845                 4     Naftisol   \n",
       "\n",
       "        Sex  Age_months  Weight (g)  \n",
       "898  Female          20          23  \n",
       "899  Female          20          23  \n",
       "900  Female          20          23  \n",
       "901  Female          20          23  \n",
       "902  Female          20          23  \n",
       "..      ...         ...         ...  \n",
       "105    Male           9          30  \n",
       "106    Male           9          30  \n",
       "107    Male           9          30  \n",
       "108    Male           9          30  \n",
       "109    Male           9          30  \n",
       "\n",
       "[1893 rows x 8 columns]"
      ]
     },
     "execution_count": 3,
     "metadata": {},
     "output_type": "execute_result"
    }
   ],
   "source": [
    "mice_sorted_df = combined_mice_df.sort_values(by=[\"Mouse ID\", \"Timepoint\"])\n",
    "mice_sorted_df"
   ]
  },
  {
   "cell_type": "code",
   "execution_count": 4,
   "metadata": {},
   "outputs": [
    {
     "data": {
      "text/plain": [
       "249"
      ]
     },
     "execution_count": 4,
     "metadata": {},
     "output_type": "execute_result"
    }
   ],
   "source": [
    "# Checking the number of mice in the DataFrame.\n",
    "number_of_mice = len(mice_sorted_df[\"Mouse ID\"].unique())\n",
    "number_of_mice"
   ]
  },
  {
   "cell_type": "markdown",
   "metadata": {},
   "source": [
    "### Assumption: It is more valuable to de-duplicate the size of the tumor in the last timepoint for each mouse because the size must have been impacted by the drug regimen. "
   ]
  },
  {
   "cell_type": "code",
   "execution_count": 5,
   "metadata": {},
   "outputs": [
    {
     "data": {
      "text/html": [
       "<div>\n",
       "<style scoped>\n",
       "    .dataframe tbody tr th:only-of-type {\n",
       "        vertical-align: middle;\n",
       "    }\n",
       "\n",
       "    .dataframe tbody tr th {\n",
       "        vertical-align: top;\n",
       "    }\n",
       "\n",
       "    .dataframe thead th {\n",
       "        text-align: right;\n",
       "    }\n",
       "</style>\n",
       "<table border=\"1\" class=\"dataframe\">\n",
       "  <thead>\n",
       "    <tr style=\"text-align: right;\">\n",
       "      <th></th>\n",
       "      <th>Mouse ID</th>\n",
       "      <th>Timepoint</th>\n",
       "      <th>Tumor Volume (mm3)</th>\n",
       "      <th>Metastatic Sites</th>\n",
       "      <th>Drug Regimen</th>\n",
       "      <th>Sex</th>\n",
       "      <th>Age_months</th>\n",
       "      <th>Weight (g)</th>\n",
       "    </tr>\n",
       "  </thead>\n",
       "  <tbody>\n",
       "    <tr>\n",
       "      <th>907</th>\n",
       "      <td>a203</td>\n",
       "      <td>45</td>\n",
       "      <td>67.973419</td>\n",
       "      <td>2</td>\n",
       "      <td>Infubinol</td>\n",
       "      <td>Female</td>\n",
       "      <td>20</td>\n",
       "      <td>23</td>\n",
       "    </tr>\n",
       "    <tr>\n",
       "      <th>289</th>\n",
       "      <td>a251</td>\n",
       "      <td>45</td>\n",
       "      <td>65.525743</td>\n",
       "      <td>1</td>\n",
       "      <td>Infubinol</td>\n",
       "      <td>Female</td>\n",
       "      <td>21</td>\n",
       "      <td>25</td>\n",
       "    </tr>\n",
       "    <tr>\n",
       "      <th>1134</th>\n",
       "      <td>a262</td>\n",
       "      <td>45</td>\n",
       "      <td>70.717621</td>\n",
       "      <td>4</td>\n",
       "      <td>Placebo</td>\n",
       "      <td>Female</td>\n",
       "      <td>17</td>\n",
       "      <td>29</td>\n",
       "    </tr>\n",
       "    <tr>\n",
       "      <th>1487</th>\n",
       "      <td>a275</td>\n",
       "      <td>45</td>\n",
       "      <td>62.999356</td>\n",
       "      <td>3</td>\n",
       "      <td>Ceftamin</td>\n",
       "      <td>Female</td>\n",
       "      <td>20</td>\n",
       "      <td>28</td>\n",
       "    </tr>\n",
       "    <tr>\n",
       "      <th>736</th>\n",
       "      <td>a366</td>\n",
       "      <td>30</td>\n",
       "      <td>63.440686</td>\n",
       "      <td>1</td>\n",
       "      <td>Stelasyn</td>\n",
       "      <td>Female</td>\n",
       "      <td>16</td>\n",
       "      <td>29</td>\n",
       "    </tr>\n",
       "    <tr>\n",
       "      <th>...</th>\n",
       "      <td>...</td>\n",
       "      <td>...</td>\n",
       "      <td>...</td>\n",
       "      <td>...</td>\n",
       "      <td>...</td>\n",
       "      <td>...</td>\n",
       "      <td>...</td>\n",
       "      <td>...</td>\n",
       "    </tr>\n",
       "    <tr>\n",
       "      <th>1566</th>\n",
       "      <td>z435</td>\n",
       "      <td>10</td>\n",
       "      <td>48.710661</td>\n",
       "      <td>0</td>\n",
       "      <td>Propriva</td>\n",
       "      <td>Female</td>\n",
       "      <td>12</td>\n",
       "      <td>26</td>\n",
       "    </tr>\n",
       "    <tr>\n",
       "      <th>646</th>\n",
       "      <td>z578</td>\n",
       "      <td>45</td>\n",
       "      <td>30.638696</td>\n",
       "      <td>0</td>\n",
       "      <td>Ramicane</td>\n",
       "      <td>Male</td>\n",
       "      <td>11</td>\n",
       "      <td>16</td>\n",
       "    </tr>\n",
       "    <tr>\n",
       "      <th>279</th>\n",
       "      <td>z581</td>\n",
       "      <td>45</td>\n",
       "      <td>62.754451</td>\n",
       "      <td>3</td>\n",
       "      <td>Infubinol</td>\n",
       "      <td>Female</td>\n",
       "      <td>24</td>\n",
       "      <td>25</td>\n",
       "    </tr>\n",
       "    <tr>\n",
       "      <th>683</th>\n",
       "      <td>z795</td>\n",
       "      <td>45</td>\n",
       "      <td>65.741070</td>\n",
       "      <td>3</td>\n",
       "      <td>Naftisol</td>\n",
       "      <td>Female</td>\n",
       "      <td>13</td>\n",
       "      <td>29</td>\n",
       "    </tr>\n",
       "    <tr>\n",
       "      <th>109</th>\n",
       "      <td>z969</td>\n",
       "      <td>45</td>\n",
       "      <td>73.867845</td>\n",
       "      <td>4</td>\n",
       "      <td>Naftisol</td>\n",
       "      <td>Male</td>\n",
       "      <td>9</td>\n",
       "      <td>30</td>\n",
       "    </tr>\n",
       "  </tbody>\n",
       "</table>\n",
       "<p>249 rows × 8 columns</p>\n",
       "</div>"
      ],
      "text/plain": [
       "     Mouse ID  Timepoint  Tumor Volume (mm3)  Metastatic Sites Drug Regimen  \\\n",
       "907      a203         45           67.973419                 2    Infubinol   \n",
       "289      a251         45           65.525743                 1    Infubinol   \n",
       "1134     a262         45           70.717621                 4      Placebo   \n",
       "1487     a275         45           62.999356                 3     Ceftamin   \n",
       "736      a366         30           63.440686                 1     Stelasyn   \n",
       "...       ...        ...                 ...               ...          ...   \n",
       "1566     z435         10           48.710661                 0     Propriva   \n",
       "646      z578         45           30.638696                 0     Ramicane   \n",
       "279      z581         45           62.754451                 3    Infubinol   \n",
       "683      z795         45           65.741070                 3     Naftisol   \n",
       "109      z969         45           73.867845                 4     Naftisol   \n",
       "\n",
       "         Sex  Age_months  Weight (g)  \n",
       "907   Female          20          23  \n",
       "289   Female          21          25  \n",
       "1134  Female          17          29  \n",
       "1487  Female          20          28  \n",
       "736   Female          16          29  \n",
       "...      ...         ...         ...  \n",
       "1566  Female          12          26  \n",
       "646     Male          11          16  \n",
       "279   Female          24          25  \n",
       "683   Female          13          29  \n",
       "109     Male           9          30  \n",
       "\n",
       "[249 rows x 8 columns]"
      ]
     },
     "execution_count": 5,
     "metadata": {},
     "output_type": "execute_result"
    }
   ],
   "source": [
    "# Getting the duplicate mice by ID number that shows up for Mouse ID and Timepoint. \n",
    "# Create a clean DataFrame by dropping the duplicate mouse by its ID.\n",
    "de_duped_mice_df = mice_sorted_df.drop_duplicates(\"Mouse ID\", \"last\")\n",
    "de_duped_mice_df"
   ]
  },
  {
   "cell_type": "code",
   "execution_count": 6,
   "metadata": {},
   "outputs": [
    {
     "name": "stderr",
     "output_type": "stream",
     "text": [
      "<ipython-input-6-12301f12c114>:2: SettingWithCopyWarning: \n",
      "A value is trying to be set on a copy of a slice from a DataFrame.\n",
      "Try using .loc[row_indexer,col_indexer] = value instead\n",
      "\n",
      "See the caveats in the documentation: https://pandas.pydata.org/pandas-docs/stable/user_guide/indexing.html#returning-a-view-versus-a-copy\n",
      "  de_duped_mice_df[\"Tumor Growth\"] = de_duped_mice_df[\"Tumor Volume (mm3)\"] - 45.0\n"
     ]
    },
    {
     "data": {
      "text/html": [
       "<div>\n",
       "<style scoped>\n",
       "    .dataframe tbody tr th:only-of-type {\n",
       "        vertical-align: middle;\n",
       "    }\n",
       "\n",
       "    .dataframe tbody tr th {\n",
       "        vertical-align: top;\n",
       "    }\n",
       "\n",
       "    .dataframe thead th {\n",
       "        text-align: right;\n",
       "    }\n",
       "</style>\n",
       "<table border=\"1\" class=\"dataframe\">\n",
       "  <thead>\n",
       "    <tr style=\"text-align: right;\">\n",
       "      <th></th>\n",
       "      <th>Mouse ID</th>\n",
       "      <th>Timepoint</th>\n",
       "      <th>Tumor Volume (mm3)</th>\n",
       "      <th>Metastatic Sites</th>\n",
       "      <th>Drug Regimen</th>\n",
       "      <th>Sex</th>\n",
       "      <th>Age_months</th>\n",
       "      <th>Weight (g)</th>\n",
       "      <th>Tumor Growth</th>\n",
       "    </tr>\n",
       "  </thead>\n",
       "  <tbody>\n",
       "    <tr>\n",
       "      <th>907</th>\n",
       "      <td>a203</td>\n",
       "      <td>45</td>\n",
       "      <td>67.973419</td>\n",
       "      <td>2</td>\n",
       "      <td>Infubinol</td>\n",
       "      <td>Female</td>\n",
       "      <td>20</td>\n",
       "      <td>23</td>\n",
       "      <td>22.973419</td>\n",
       "    </tr>\n",
       "    <tr>\n",
       "      <th>289</th>\n",
       "      <td>a251</td>\n",
       "      <td>45</td>\n",
       "      <td>65.525743</td>\n",
       "      <td>1</td>\n",
       "      <td>Infubinol</td>\n",
       "      <td>Female</td>\n",
       "      <td>21</td>\n",
       "      <td>25</td>\n",
       "      <td>20.525743</td>\n",
       "    </tr>\n",
       "    <tr>\n",
       "      <th>1134</th>\n",
       "      <td>a262</td>\n",
       "      <td>45</td>\n",
       "      <td>70.717621</td>\n",
       "      <td>4</td>\n",
       "      <td>Placebo</td>\n",
       "      <td>Female</td>\n",
       "      <td>17</td>\n",
       "      <td>29</td>\n",
       "      <td>25.717621</td>\n",
       "    </tr>\n",
       "    <tr>\n",
       "      <th>1487</th>\n",
       "      <td>a275</td>\n",
       "      <td>45</td>\n",
       "      <td>62.999356</td>\n",
       "      <td>3</td>\n",
       "      <td>Ceftamin</td>\n",
       "      <td>Female</td>\n",
       "      <td>20</td>\n",
       "      <td>28</td>\n",
       "      <td>17.999356</td>\n",
       "    </tr>\n",
       "    <tr>\n",
       "      <th>736</th>\n",
       "      <td>a366</td>\n",
       "      <td>30</td>\n",
       "      <td>63.440686</td>\n",
       "      <td>1</td>\n",
       "      <td>Stelasyn</td>\n",
       "      <td>Female</td>\n",
       "      <td>16</td>\n",
       "      <td>29</td>\n",
       "      <td>18.440686</td>\n",
       "    </tr>\n",
       "    <tr>\n",
       "      <th>...</th>\n",
       "      <td>...</td>\n",
       "      <td>...</td>\n",
       "      <td>...</td>\n",
       "      <td>...</td>\n",
       "      <td>...</td>\n",
       "      <td>...</td>\n",
       "      <td>...</td>\n",
       "      <td>...</td>\n",
       "      <td>...</td>\n",
       "    </tr>\n",
       "    <tr>\n",
       "      <th>1566</th>\n",
       "      <td>z435</td>\n",
       "      <td>10</td>\n",
       "      <td>48.710661</td>\n",
       "      <td>0</td>\n",
       "      <td>Propriva</td>\n",
       "      <td>Female</td>\n",
       "      <td>12</td>\n",
       "      <td>26</td>\n",
       "      <td>3.710661</td>\n",
       "    </tr>\n",
       "    <tr>\n",
       "      <th>646</th>\n",
       "      <td>z578</td>\n",
       "      <td>45</td>\n",
       "      <td>30.638696</td>\n",
       "      <td>0</td>\n",
       "      <td>Ramicane</td>\n",
       "      <td>Male</td>\n",
       "      <td>11</td>\n",
       "      <td>16</td>\n",
       "      <td>-14.361304</td>\n",
       "    </tr>\n",
       "    <tr>\n",
       "      <th>279</th>\n",
       "      <td>z581</td>\n",
       "      <td>45</td>\n",
       "      <td>62.754451</td>\n",
       "      <td>3</td>\n",
       "      <td>Infubinol</td>\n",
       "      <td>Female</td>\n",
       "      <td>24</td>\n",
       "      <td>25</td>\n",
       "      <td>17.754451</td>\n",
       "    </tr>\n",
       "    <tr>\n",
       "      <th>683</th>\n",
       "      <td>z795</td>\n",
       "      <td>45</td>\n",
       "      <td>65.741070</td>\n",
       "      <td>3</td>\n",
       "      <td>Naftisol</td>\n",
       "      <td>Female</td>\n",
       "      <td>13</td>\n",
       "      <td>29</td>\n",
       "      <td>20.741070</td>\n",
       "    </tr>\n",
       "    <tr>\n",
       "      <th>109</th>\n",
       "      <td>z969</td>\n",
       "      <td>45</td>\n",
       "      <td>73.867845</td>\n",
       "      <td>4</td>\n",
       "      <td>Naftisol</td>\n",
       "      <td>Male</td>\n",
       "      <td>9</td>\n",
       "      <td>30</td>\n",
       "      <td>28.867845</td>\n",
       "    </tr>\n",
       "  </tbody>\n",
       "</table>\n",
       "<p>249 rows × 9 columns</p>\n",
       "</div>"
      ],
      "text/plain": [
       "     Mouse ID  Timepoint  Tumor Volume (mm3)  Metastatic Sites Drug Regimen  \\\n",
       "907      a203         45           67.973419                 2    Infubinol   \n",
       "289      a251         45           65.525743                 1    Infubinol   \n",
       "1134     a262         45           70.717621                 4      Placebo   \n",
       "1487     a275         45           62.999356                 3     Ceftamin   \n",
       "736      a366         30           63.440686                 1     Stelasyn   \n",
       "...       ...        ...                 ...               ...          ...   \n",
       "1566     z435         10           48.710661                 0     Propriva   \n",
       "646      z578         45           30.638696                 0     Ramicane   \n",
       "279      z581         45           62.754451                 3    Infubinol   \n",
       "683      z795         45           65.741070                 3     Naftisol   \n",
       "109      z969         45           73.867845                 4     Naftisol   \n",
       "\n",
       "         Sex  Age_months  Weight (g)  Tumor Growth  \n",
       "907   Female          20          23     22.973419  \n",
       "289   Female          21          25     20.525743  \n",
       "1134  Female          17          29     25.717621  \n",
       "1487  Female          20          28     17.999356  \n",
       "736   Female          16          29     18.440686  \n",
       "...      ...         ...         ...           ...  \n",
       "1566  Female          12          26      3.710661  \n",
       "646     Male          11          16    -14.361304  \n",
       "279   Female          24          25     17.754451  \n",
       "683   Female          13          29     20.741070  \n",
       "109     Male           9          30     28.867845  \n",
       "\n",
       "[249 rows x 9 columns]"
      ]
     },
     "execution_count": 6,
     "metadata": {},
     "output_type": "execute_result"
    }
   ],
   "source": [
    "# adds new column showcasing the growth or decrease in tumor size from the first measurement of 45 mm3\n",
    "de_duped_mice_df[\"Tumor Growth\"] = de_duped_mice_df[\"Tumor Volume (mm3)\"] - 45.0\n",
    "de_duped_mice_df"
   ]
  },
  {
   "cell_type": "code",
   "execution_count": 7,
   "metadata": {},
   "outputs": [],
   "source": [
    "mice_sorted_df[\"Tumor Growth\"] = de_duped_mice_df[\"Tumor Growth\"]"
   ]
  },
  {
   "cell_type": "code",
   "execution_count": 8,
   "metadata": {},
   "outputs": [],
   "source": [
    "# Checking the number of mice in the clean DataFrame.\n",
    "assert (de_duped_mice_df[\"Mouse ID\"].count()) == number_of_mice"
   ]
  },
  {
   "cell_type": "code",
   "execution_count": 9,
   "metadata": {},
   "outputs": [
    {
     "data": {
      "text/plain": [
       "array(['Infubinol', 'Placebo', 'Ceftamin', 'Stelasyn', 'Zoniferol',\n",
       "       'Ramicane', 'Ketapril', 'Propriva', 'Naftisol', 'Capomulin'],\n",
       "      dtype=object)"
      ]
     },
     "execution_count": 9,
     "metadata": {},
     "output_type": "execute_result"
    }
   ],
   "source": [
    "mice_sorted_df[\"Drug Regimen\"].unique()"
   ]
  },
  {
   "cell_type": "markdown",
   "metadata": {},
   "source": [
    "## Summary Statistics\n",
    "\n",
    "Generate a summary statistics table of mean, median, variance, standard deviation, and SEM of the tumor volume for each regimen\n"
   ]
  },
  {
   "cell_type": "code",
   "execution_count": 10,
   "metadata": {},
   "outputs": [],
   "source": [
    "# find mean of tumor volume grouped by drug regimen and creating series for tumor volume\n",
    "\n",
    "drug_regimen_group = mice_sorted_df.groupby(by=\"Drug Regimen\")\n",
    "tumor_series_group = drug_regimen_group[\"Tumor Growth\"]"
   ]
  },
  {
   "cell_type": "code",
   "execution_count": 11,
   "metadata": {},
   "outputs": [],
   "source": [
    "tumor_mean = tumor_series_group.mean()"
   ]
  },
  {
   "cell_type": "code",
   "execution_count": 12,
   "metadata": {},
   "outputs": [],
   "source": [
    "tumor_median = tumor_series_group.median()"
   ]
  },
  {
   "cell_type": "code",
   "execution_count": 13,
   "metadata": {},
   "outputs": [],
   "source": [
    "tumor_std = tumor_series_group.std()"
   ]
  },
  {
   "cell_type": "code",
   "execution_count": 14,
   "metadata": {},
   "outputs": [],
   "source": [
    "tumor_variance = tumor_series_group.var()"
   ]
  },
  {
   "cell_type": "code",
   "execution_count": 15,
   "metadata": {},
   "outputs": [],
   "source": [
    "tumor_sem = tumor_series_group.sem()"
   ]
  },
  {
   "cell_type": "code",
   "execution_count": 16,
   "metadata": {},
   "outputs": [
    {
     "data": {
      "text/html": [
       "<div>\n",
       "<style scoped>\n",
       "    .dataframe tbody tr th:only-of-type {\n",
       "        vertical-align: middle;\n",
       "    }\n",
       "\n",
       "    .dataframe tbody tr th {\n",
       "        vertical-align: top;\n",
       "    }\n",
       "\n",
       "    .dataframe thead th {\n",
       "        text-align: right;\n",
       "    }\n",
       "</style>\n",
       "<table border=\"1\" class=\"dataframe\">\n",
       "  <thead>\n",
       "    <tr style=\"text-align: right;\">\n",
       "      <th></th>\n",
       "      <th>Mean</th>\n",
       "      <th>Median</th>\n",
       "      <th>Standard Deviation</th>\n",
       "      <th>Variance</th>\n",
       "      <th>SEM</th>\n",
       "    </tr>\n",
       "    <tr>\n",
       "      <th>Drug Regimen</th>\n",
       "      <th></th>\n",
       "      <th></th>\n",
       "      <th></th>\n",
       "      <th></th>\n",
       "      <th></th>\n",
       "    </tr>\n",
       "  </thead>\n",
       "  <tbody>\n",
       "    <tr>\n",
       "      <th>Capomulin</th>\n",
       "      <td>-8.332432</td>\n",
       "      <td>-6.874836</td>\n",
       "      <td>5.715188</td>\n",
       "      <td>32.663378</td>\n",
       "      <td>1.143038</td>\n",
       "    </tr>\n",
       "    <tr>\n",
       "      <th>Ceftamin</th>\n",
       "      <td>12.753977</td>\n",
       "      <td>14.851956</td>\n",
       "      <td>8.365568</td>\n",
       "      <td>69.982735</td>\n",
       "      <td>1.673114</td>\n",
       "    </tr>\n",
       "    <tr>\n",
       "      <th>Infubinol</th>\n",
       "      <td>13.178246</td>\n",
       "      <td>15.165180</td>\n",
       "      <td>8.602957</td>\n",
       "      <td>74.010875</td>\n",
       "      <td>1.720591</td>\n",
       "    </tr>\n",
       "    <tr>\n",
       "      <th>Ketapril</th>\n",
       "      <td>17.806191</td>\n",
       "      <td>19.487812</td>\n",
       "      <td>9.945920</td>\n",
       "      <td>98.921330</td>\n",
       "      <td>1.989184</td>\n",
       "    </tr>\n",
       "    <tr>\n",
       "      <th>Naftisol</th>\n",
       "      <td>16.205757</td>\n",
       "      <td>18.283288</td>\n",
       "      <td>10.297083</td>\n",
       "      <td>106.029927</td>\n",
       "      <td>2.059417</td>\n",
       "    </tr>\n",
       "    <tr>\n",
       "      <th>Placebo</th>\n",
       "      <td>15.508414</td>\n",
       "      <td>17.030594</td>\n",
       "      <td>8.874672</td>\n",
       "      <td>78.759797</td>\n",
       "      <td>1.774934</td>\n",
       "    </tr>\n",
       "    <tr>\n",
       "      <th>Propriva</th>\n",
       "      <td>11.736964</td>\n",
       "      <td>10.841410</td>\n",
       "      <td>8.327605</td>\n",
       "      <td>69.349002</td>\n",
       "      <td>1.665521</td>\n",
       "    </tr>\n",
       "    <tr>\n",
       "      <th>Ramicane</th>\n",
       "      <td>-8.808610</td>\n",
       "      <td>-8.438348</td>\n",
       "      <td>5.671539</td>\n",
       "      <td>32.166354</td>\n",
       "      <td>1.134308</td>\n",
       "    </tr>\n",
       "    <tr>\n",
       "      <th>Stelasyn</th>\n",
       "      <td>16.001707</td>\n",
       "      <td>17.192350</td>\n",
       "      <td>9.504293</td>\n",
       "      <td>90.331586</td>\n",
       "      <td>1.940056</td>\n",
       "    </tr>\n",
       "    <tr>\n",
       "      <th>Zoniferol</th>\n",
       "      <td>14.181258</td>\n",
       "      <td>16.840058</td>\n",
       "      <td>8.767099</td>\n",
       "      <td>76.862027</td>\n",
       "      <td>1.753420</td>\n",
       "    </tr>\n",
       "  </tbody>\n",
       "</table>\n",
       "</div>"
      ],
      "text/plain": [
       "                   Mean     Median  Standard Deviation    Variance       SEM\n",
       "Drug Regimen                                                                \n",
       "Capomulin     -8.332432  -6.874836            5.715188   32.663378  1.143038\n",
       "Ceftamin      12.753977  14.851956            8.365568   69.982735  1.673114\n",
       "Infubinol     13.178246  15.165180            8.602957   74.010875  1.720591\n",
       "Ketapril      17.806191  19.487812            9.945920   98.921330  1.989184\n",
       "Naftisol      16.205757  18.283288           10.297083  106.029927  2.059417\n",
       "Placebo       15.508414  17.030594            8.874672   78.759797  1.774934\n",
       "Propriva      11.736964  10.841410            8.327605   69.349002  1.665521\n",
       "Ramicane      -8.808610  -8.438348            5.671539   32.166354  1.134308\n",
       "Stelasyn      16.001707  17.192350            9.504293   90.331586  1.940056\n",
       "Zoniferol     14.181258  16.840058            8.767099   76.862027  1.753420"
      ]
     },
     "execution_count": 16,
     "metadata": {},
     "output_type": "execute_result"
    }
   ],
   "source": [
    "# creating summary table\n",
    "\n",
    "summary_df = pd.DataFrame(data={\"Mean\":tumor_mean, \"Median\":tumor_median, \"Standard Deviation\":tumor_std, \"Variance\":tumor_variance, \"SEM\":tumor_sem})\n",
    "summary_df"
   ]
  },
  {
   "cell_type": "markdown",
   "metadata": {},
   "source": [
    "## Bar Plots"
   ]
  },
  {
   "cell_type": "code",
   "execution_count": 17,
   "metadata": {},
   "outputs": [
    {
     "data": {
      "text/plain": [
       "Index(['Mouse ID', 'Timepoint', 'Tumor Volume (mm3)', 'Metastatic Sites',\n",
       "       'Drug Regimen', 'Sex', 'Age_months', 'Weight (g)', 'Tumor Growth'],\n",
       "      dtype='object')"
      ]
     },
     "execution_count": 17,
     "metadata": {},
     "output_type": "execute_result"
    }
   ],
   "source": [
    "mice_sorted_df.columns"
   ]
  },
  {
   "cell_type": "code",
   "execution_count": 18,
   "metadata": {},
   "outputs": [],
   "source": [
    "# Generate a bar plot showing the number of mice per time point for each treatment throughout the course of the study using pandas.\n",
    "\n",
    "#finding the unique timepoints:\n",
    "\n",
    "timepoint_labels = mice_sorted_df[\"Timepoint\"].unique().tolist()\n",
    "\n",
    "number_of_mice_per_timepoint = mice_sorted_df[\"Timepoint\"].value_counts().tolist()\n",
    "\n",
    "mice_per_timepoint_df = pd.DataFrame(mice_sorted_df[\"Timepoint\"].value_counts())\n",
    "\n",
    "\n",
    "# tick_locations = [value for value in timepoint_labels]"
   ]
  },
  {
   "cell_type": "code",
   "execution_count": 19,
   "metadata": {},
   "outputs": [
    {
     "data": {
      "image/png": "[encoded data removed]",
      "text/plain": [
       "<Figure size 432x288 with 1 Axes>"
      ]
     },
     "metadata": {
      "needs_background": "light"
     },
     "output_type": "display_data"
    }
   ],
   "source": [
    "#Plotting using pandas\n",
    "mice_per_timepoint_df.plot(kind=\"bar\", title=\"Number of Mice per Timepoint\", xlabel=\"Timepoint\", ylabel=\"Number of Mice\", rot=0)\n",
    "plt.savefig(\"../Images/MiceTimepointBar_Pandas.png\")\n",
    "plt.show()"
   ]
  },
  {
   "cell_type": "code",
   "execution_count": 20,
   "metadata": {},
   "outputs": [
    {
     "data": {
      "image/png": "[encoded data removed]",
      "text/plain": [
       "<Figure size 432x288 with 1 Axes>"
      ]
     },
     "metadata": {
      "needs_background": "light"
     },
     "output_type": "display_data"
    }
   ],
   "source": [
    "#Plotting using pyplot \n",
    "\n",
    "plt.bar(timepoint_labels, number_of_mice_per_timepoint, color=\"r\", align=\"center\", tick_label=timepoint_labels)\n",
    "\n",
    "# titles and axis labels\n",
    "plt.title(\"Number of Mice per Timepoint\")\n",
    "plt.xlabel(\"Timepoint\")\n",
    "plt.ylabel(\"Number of Mice\")\n",
    "\n",
    "plt.savefig(\"../Images/MiceTimepointBar_Pyplot.png\")\n",
    "plt.show()"
   ]
  },
  {
   "cell_type": "markdown",
   "metadata": {},
   "source": [
    "## Pie Plots"
   ]
  },
  {
   "cell_type": "code",
   "execution_count": 24,
   "metadata": {},
   "outputs": [],
   "source": [
    "mice_sorted_df.columns\n",
    "\n",
    "mice_sex_distribution_series = mice_sorted_df[\"Sex\"].value_counts()\n",
    "mice_sex_distribution_list = mice_sex_distribution_series.tolist()"
   ]
  },
  {
   "cell_type": "code",
   "execution_count": 26,
   "metadata": {},
   "outputs": [
    {
     "data": {
      "image/png": "[encoded data removed]",
      "text/plain": [
       "<Figure size 432x288 with 1 Axes>"
      ]
     },
     "metadata": {},
     "output_type": "display_data"
    }
   ],
   "source": [
    "# Generate a pie plot showing the distribution of female versus male mice using pandas\n",
    "mice_sex_distribution_series.plot(kind=\"pie\", title=\"Mice Sex Distribution\", legend=True, table=True, ylabel=\"\")\n",
    "\n",
    "plt.savefig(\"../Images/MiceSexDistribution_Pandas.png\")\n",
    "plt.show()"
   ]
  },
  {
   "cell_type": "code",
   "execution_count": 27,
   "metadata": {},
   "outputs": [
    {
     "data": {
      "image/png": "[encoded data removed]",
      "text/plain": [
       "<Figure size 432x288 with 1 Axes>"
      ]
     },
     "metadata": {},
     "output_type": "display_data"
    }
   ],
   "source": [
    "# Generate a pie plot showing the distribution of female versus male mice using pyplot\n",
    "plt.pie(\n",
    "    x=mice_sex_distribution_list,\n",
    "    labels=[\"Male\", \"Female\"],\n",
    "    colors=[\"Green\", \"Purple\"],\n",
    "    shadow=5,\n",
    "    startangle=90,\n",
    "    radius=2\n",
    ")\n",
    "\n",
    "plt.title(\"Mice Sex Distribution\")\n",
    "plt.axis(\"equal\")\n",
    "\n",
    "plt.savefig(\"../Images/MiceSexDistribution_Pyplot.png\")\n",
    "plt.show()"
   ]
  },
  {
   "cell_type": "markdown",
   "metadata": {},
   "source": [
    "## Quartiles, Outliers and Boxplots"
   ]
  },
  {
   "cell_type": "markdown",
   "metadata": {},
   "source": [
    "### Using summary_df we identified that the four most promising treatment regimens are: \n",
    "1. Capomulin\n",
    "2. Ramicane\n",
    "3. Propriva\n",
    "4. Ceftamin\n",
    "\n",
    "The first two regimens show a decrease in tumor growth and the last two have the smallest growth compared to the other drug regimens."
   ]
  },
  {
   "cell_type": "code",
   "execution_count": 31,
   "metadata": {},
   "outputs": [],
   "source": [
    "# Calculate the final tumor volume of each mouse across four of the most promising treatment regimens. \n",
    "final_tumor_volume = de_duped_mice_df[\"Tumor Volume (mm3)\"]\n",
    "\n",
    "# creating a list and dataframe to pull specific drug regimen data from\n",
    "chosen_drug_regimens = [\"Capomulin\", \"Ramicane\", \"Propriva\", \"Ceftamin\"]\n",
    "\n",
    "final_tumor_volume_regimens = de_duped_mice_df[[\"Tumor Volume (mm3)\", \"Drug Regimen\"]]"
   ]
  },
  {
   "cell_type": "code",
   "execution_count": 32,
   "metadata": {},
   "outputs": [],
   "source": [
    "# creating dataframes for tumor volumes based on four most promising regimens\n",
    "\n",
    "capo_final_tumor_volume = final_tumor_volume_regimens.loc[(final_tumor_volume_regimens[\"Drug Regimen\"] == \"Capomulin\")]\n",
    "rami_final_tumor_volume = final_tumor_volume_regimens.loc[(final_tumor_volume_regimens[\"Drug Regimen\"] == \"Ramicane\")]\n",
    "pro_final_tumor_volume = final_tumor_volume_regimens.loc[(final_tumor_volume_regimens[\"Drug Regimen\"] == \"Propriva\")]\n",
    "ceft_final_tumor_volume = final_tumor_volume_regimens.loc[(final_tumor_volume_regimens[\"Drug Regimen\"] == \"Ceftamin\")]"
   ]
  },
  {
   "cell_type": "code",
   "execution_count": 49,
   "metadata": {},
   "outputs": [],
   "source": [
    "# Calculate the IQR and quantitatively determine if there are any potential outliers. - Capomulin\n",
    "capo_quartiles = capo_final_tumor_volume[\"Tumor Volume (mm3)\"].quantile(q=[0.25, 0.5, 0.75])\n",
    "capo_lowerq = capo_quartiles[0.25]\n",
    "capo_upperq = capo_quartiles[0.75]\n",
    "capo_iqr = capo_upperq - capo_lowerq\n",
    "\n",
    "capo_lower_bound = capo_lowerq - (1.5 * capo_iqr)\n",
    "capo_upper_bound = capo_upperq + (1.5 * capo_iqr)\n",
    "\n",
    "# Ramicane:\n",
    "rami_quartiles = rami_final_tumor_volume[\"Tumor Volume (mm3)\"].quantile(q=[0.25, 0.5, 0.75])\n",
    "rami_lowerq = rami_quartiles[0.25]\n",
    "rami_upperq = rami_quartiles[0.75]\n",
    "rami_iqr = rami_upperq - rami_lowerq\n",
    "\n",
    "rami_lower_bound = rami_lowerq - (1.5 * rami_iqr)\n",
    "rami_upper_bound = rami_upperq + (1.5 * rami_iqr)\n",
    "\n",
    "# Propriva:\n",
    "pro_quartiles = pro_final_tumor_volume[\"Tumor Volume (mm3)\"].quantile(q=[0.25, 0.5, 0.75])\n",
    "pro_lowerq = pro_quartiles[0.25]\n",
    "pro_upperq = pro_quartiles[0.75]\n",
    "pro_iqr = pro_upperq - pro_lowerq\n",
    "\n",
    "pro_lower_bound = pro_lowerq - (1.5 * pro_iqr)\n",
    "pro_upper_bound = pro_upperq + (1.5 * pro_iqr)\n",
    "\n",
    "# Ceftamin:\n",
    "ceft_quartiles = ceft_final_tumor_volume[\"Tumor Volume (mm3)\"].quantile(q=[0.25, 0.5, 0.75])\n",
    "ceft_lowerq = ceft_quartiles[0.25]\n",
    "ceft_upperq = ceft_quartiles[0.75]\n",
    "ceft_iqr = ceft_upperq - ceft_lowerq\n",
    "\n",
    "ceft_lower_bound = ceft_lowerq - (1.5 * ceft_iqr)\n",
    "ceft_upper_bound = ceft_upperq + (1.5 * ceft_iqr)"
   ]
  },
  {
   "cell_type": "code",
   "execution_count": 59,
   "metadata": {},
   "outputs": [
    {
     "name": "stdout",
     "output_type": "stream",
     "text": [
      "Using iqr, we have deteremined that any Capomulin value below 20.70456164999999 or above 51.83201549 could potentially be an outlier\n",
      "Using iqr, we have deteremined that any Ramicane value below 17.912664470000003 or above 54.30681135 could potentially be an outlier\n",
      "Using iqr, we have deteremined that any Propriva value below 28.95110303500001 or above 82.742745555 could potentially be an outlier\n",
      "Using iqr, we have deteremined that any Propriva value below 25.355449580000002 or above 87.66645829999999 could potentially be an outlier\n"
     ]
    }
   ],
   "source": [
    "print(f\"Using iqr, we have deteremined that any Capomulin value below {capo_lower_bound} or above {capo_upper_bound} could potentially be an outlier\")\n",
    "\n",
    "print(f\"Using iqr, we have deteremined that any Ramicane value below {rami_lower_bound} or above {rami_upper_bound} could potentially be an outlier\")\n",
    "\n",
    "print(f\"Using iqr, we have deteremined that any Propriva value below {pro_lower_bound} or above {pro_upper_bound} could potentially be an outlier\")\n",
    "\n",
    "print(f\"Using iqr, we have deteremined that any Propriva value below {ceft_lower_bound} or above {ceft_upper_bound} could potentially be an outlier\")"
   ]
  },
  {
   "cell_type": "markdown",
   "metadata": {},
   "source": [
    "### Plotting box plots for each of the drug regimens side by side"
   ]
  },
  {
   "cell_type": "code",
   "execution_count": 169,
   "metadata": {},
   "outputs": [],
   "source": [
    "data_to_plot = [capo_final_tumor_volume[\"Tumor Volume (mm3)\"], rami_final_tumor_volume[\"Tumor Volume (mm3)\"], pro_final_tumor_volume[\"Tumor Volume (mm3)\"], ceft_final_tumor_volume[\"Tumor Volume (mm3)\"]]"
   ]
  },
  {
   "cell_type": "code",
   "execution_count": 170,
   "metadata": {},
   "outputs": [
    {
     "data": {
      "image/png": "[encoded data removed]",
      "text/plain": [
       "<Figure size 792x504 with 1 Axes>"
      ]
     },
     "metadata": {
      "needs_background": "light"
     },
     "output_type": "display_data"
    }
   ],
   "source": [
    "# Generate a box plot of the final tumor volume of each mouse across four regimens of interest\n",
    "\n",
    "plt.figure(figsize=(11, 7))\n",
    "plt.boxplot(data_to_plot, labels=chosen_drug_regimens)\n",
    "plt.title(\"Final Tumor Volume (mm3) by Drug Regimen\")\n",
    "plt.ylabel(\"Final Tumor Volume (mm3)\")\n",
    "\n",
    "plt.savefig(\"../Images/FinalTumorVolumeByDrug.png\")\n",
    "plt.show()"
   ]
  },
  {
   "cell_type": "markdown",
   "metadata": {},
   "source": [
    "## Line and Scatter Plots"
   ]
  },
  {
   "cell_type": "code",
   "execution_count": 86,
   "metadata": {},
   "outputs": [
    {
     "data": {
      "text/html": [
       "<div>\n",
       "<style scoped>\n",
       "    .dataframe tbody tr th:only-of-type {\n",
       "        vertical-align: middle;\n",
       "    }\n",
       "\n",
       "    .dataframe tbody tr th {\n",
       "        vertical-align: top;\n",
       "    }\n",
       "\n",
       "    .dataframe thead th {\n",
       "        text-align: right;\n",
       "    }\n",
       "</style>\n",
       "<table border=\"1\" class=\"dataframe\">\n",
       "  <thead>\n",
       "    <tr style=\"text-align: right;\">\n",
       "      <th></th>\n",
       "      <th>Mouse ID</th>\n",
       "      <th>Timepoint</th>\n",
       "      <th>Tumor Volume (mm3)</th>\n",
       "      <th>Weight (g)</th>\n",
       "    </tr>\n",
       "  </thead>\n",
       "  <tbody>\n",
       "    <tr>\n",
       "      <th>0</th>\n",
       "      <td>b128</td>\n",
       "      <td>0</td>\n",
       "      <td>45.000000</td>\n",
       "      <td>22</td>\n",
       "    </tr>\n",
       "    <tr>\n",
       "      <th>1</th>\n",
       "      <td>b128</td>\n",
       "      <td>5</td>\n",
       "      <td>45.651331</td>\n",
       "      <td>22</td>\n",
       "    </tr>\n",
       "    <tr>\n",
       "      <th>2</th>\n",
       "      <td>b128</td>\n",
       "      <td>10</td>\n",
       "      <td>43.270852</td>\n",
       "      <td>22</td>\n",
       "    </tr>\n",
       "    <tr>\n",
       "      <th>3</th>\n",
       "      <td>b128</td>\n",
       "      <td>15</td>\n",
       "      <td>43.784893</td>\n",
       "      <td>22</td>\n",
       "    </tr>\n",
       "    <tr>\n",
       "      <th>4</th>\n",
       "      <td>b128</td>\n",
       "      <td>20</td>\n",
       "      <td>42.731552</td>\n",
       "      <td>22</td>\n",
       "    </tr>\n",
       "    <tr>\n",
       "      <th>5</th>\n",
       "      <td>b128</td>\n",
       "      <td>25</td>\n",
       "      <td>43.262145</td>\n",
       "      <td>22</td>\n",
       "    </tr>\n",
       "    <tr>\n",
       "      <th>6</th>\n",
       "      <td>b128</td>\n",
       "      <td>30</td>\n",
       "      <td>40.605335</td>\n",
       "      <td>22</td>\n",
       "    </tr>\n",
       "    <tr>\n",
       "      <th>7</th>\n",
       "      <td>b128</td>\n",
       "      <td>35</td>\n",
       "      <td>37.967644</td>\n",
       "      <td>22</td>\n",
       "    </tr>\n",
       "    <tr>\n",
       "      <th>8</th>\n",
       "      <td>b128</td>\n",
       "      <td>40</td>\n",
       "      <td>38.379726</td>\n",
       "      <td>22</td>\n",
       "    </tr>\n",
       "    <tr>\n",
       "      <th>9</th>\n",
       "      <td>b128</td>\n",
       "      <td>45</td>\n",
       "      <td>38.982878</td>\n",
       "      <td>22</td>\n",
       "    </tr>\n",
       "  </tbody>\n",
       "</table>\n",
       "</div>"
      ],
      "text/plain": [
       "  Mouse ID  Timepoint  Tumor Volume (mm3)  Weight (g)\n",
       "0     b128          0           45.000000          22\n",
       "1     b128          5           45.651331          22\n",
       "2     b128         10           43.270852          22\n",
       "3     b128         15           43.784893          22\n",
       "4     b128         20           42.731552          22\n",
       "5     b128         25           43.262145          22\n",
       "6     b128         30           40.605335          22\n",
       "7     b128         35           37.967644          22\n",
       "8     b128         40           38.379726          22\n",
       "9     b128         45           38.982878          22"
      ]
     },
     "execution_count": 86,
     "metadata": {},
     "output_type": "execute_result"
    }
   ],
   "source": [
    "# Generate a line plot of time point versus tumor volume for a mouse treated with Capomulin\n",
    "capo_tumor_volume_all_df = mice_sorted_df.loc[(mice_sorted_df[\"Drug Regimen\"] == \"Capomulin\")]\n",
    "capo_tumor_time_df = capo_tumor_volume_all_df[[\"Mouse ID\", \"Timepoint\", \"Tumor Volume (mm3)\", \"Weight (g)\"]]\n",
    "\n",
    "#selecting individual mouse for line and scatter plots\n",
    "b128_df = capo_tumor_time_df.loc[(capo_tumor_time_df[\"Mouse ID\"] == \"b128\")]\n",
    "b128_df"
   ]
  },
  {
   "cell_type": "code",
   "execution_count": 113,
   "metadata": {},
   "outputs": [
    {
     "data": {
      "image/png": "[encoded data removed]",
      "text/plain": [
       "<Figure size 432x288 with 1 Axes>"
      ]
     },
     "metadata": {
      "needs_background": "light"
     },
     "output_type": "display_data"
    }
   ],
   "source": [
    "timepoint_x_axis = b128_df[\"Timepoint\"]\n",
    "tumor_volume_y_axis = b128_df[\"Tumor Volume (mm3)\"]\n",
    "\n",
    "plt.plot(timepoint_x_axis, tumor_volume_y_axis, marker=\"+\",color=\"red\", linewidth=1.5)\n",
    "\n",
    "plt.title(\"B128 Tumor Volume (mm3) by Timepoint\")\n",
    "plt.xlabel(\"Timepoint\")\n",
    "plt.ylabel(\"Tumor Volume (mm3)\")\n",
    "\n",
    "plt.savefig(\"../Images/B128TumorVolumeByTime.png\")\n",
    "plt.show()"
   ]
  },
  {
   "cell_type": "code",
   "execution_count": 119,
   "metadata": {},
   "outputs": [
    {
     "data": {
      "text/html": [
       "<div>\n",
       "<style scoped>\n",
       "    .dataframe tbody tr th:only-of-type {\n",
       "        vertical-align: middle;\n",
       "    }\n",
       "\n",
       "    .dataframe tbody tr th {\n",
       "        vertical-align: top;\n",
       "    }\n",
       "\n",
       "    .dataframe thead th {\n",
       "        text-align: right;\n",
       "    }\n",
       "</style>\n",
       "<table border=\"1\" class=\"dataframe\">\n",
       "  <thead>\n",
       "    <tr style=\"text-align: right;\">\n",
       "      <th></th>\n",
       "      <th>Timepoint</th>\n",
       "      <th>Tumor Volume (mm3)</th>\n",
       "    </tr>\n",
       "    <tr>\n",
       "      <th>Weight (g)</th>\n",
       "      <th></th>\n",
       "      <th></th>\n",
       "    </tr>\n",
       "  </thead>\n",
       "  <tbody>\n",
       "    <tr>\n",
       "      <th>15</th>\n",
       "      <td>22.500000</td>\n",
       "      <td>36.182040</td>\n",
       "    </tr>\n",
       "    <tr>\n",
       "      <th>17</th>\n",
       "      <td>21.538462</td>\n",
       "      <td>37.214133</td>\n",
       "    </tr>\n",
       "    <tr>\n",
       "      <th>19</th>\n",
       "      <td>22.500000</td>\n",
       "      <td>41.182391</td>\n",
       "    </tr>\n",
       "    <tr>\n",
       "      <th>20</th>\n",
       "      <td>22.500000</td>\n",
       "      <td>39.141053</td>\n",
       "    </tr>\n",
       "    <tr>\n",
       "      <th>21</th>\n",
       "      <td>21.666667</td>\n",
       "      <td>42.088700</td>\n",
       "    </tr>\n",
       "    <tr>\n",
       "      <th>22</th>\n",
       "      <td>22.500000</td>\n",
       "      <td>43.288490</td>\n",
       "    </tr>\n",
       "    <tr>\n",
       "      <th>23</th>\n",
       "      <td>20.217391</td>\n",
       "      <td>43.341051</td>\n",
       "    </tr>\n",
       "    <tr>\n",
       "      <th>24</th>\n",
       "      <td>22.500000</td>\n",
       "      <td>44.805810</td>\n",
       "    </tr>\n",
       "    <tr>\n",
       "      <th>25</th>\n",
       "      <td>18.214286</td>\n",
       "      <td>44.062109</td>\n",
       "    </tr>\n",
       "  </tbody>\n",
       "</table>\n",
       "</div>"
      ],
      "text/plain": [
       "            Timepoint  Tumor Volume (mm3)\n",
       "Weight (g)                               \n",
       "15          22.500000           36.182040\n",
       "17          21.538462           37.214133\n",
       "19          22.500000           41.182391\n",
       "20          22.500000           39.141053\n",
       "21          21.666667           42.088700\n",
       "22          22.500000           43.288490\n",
       "23          20.217391           43.341051\n",
       "24          22.500000           44.805810\n",
       "25          18.214286           44.062109"
      ]
     },
     "execution_count": 119,
     "metadata": {},
     "output_type": "execute_result"
    }
   ],
   "source": [
    "average_tumor_volume_by_weight_df = capo_tumor_time_df.groupby(\"Weight (g)\").mean()\n",
    "average_tumor_volume_by_weight_df"
   ]
  },
  {
   "cell_type": "code",
   "execution_count": 120,
   "metadata": {},
   "outputs": [
    {
     "data": {
      "image/png": "[encoded data removed]",
      "text/plain": [
       "<Figure size 432x288 with 1 Axes>"
      ]
     },
     "metadata": {
      "needs_background": "light"
     },
     "output_type": "display_data"
    }
   ],
   "source": [
    "# Generate a scatter plot of mouse weight versus average tumor volume for the Capomulin regimen\n",
    "\n",
    "weight_x_axis = average_tumor_volume_by_weight_df.index\n",
    "weight_y_axis = average_tumor_volume_by_weight_df[\"Tumor Volume (mm3)\"]\n",
    "\n",
    "plt.scatter(weight_x_axis, weight_y_axis, marker=\"o\",color=\"blue\")\n",
    "\n",
    "plt.title(\"Average Tumor Volume (mm3) by Weight (g)\")\n",
    "plt.xlabel(\"Weight (g)\")\n",
    "plt.ylabel(\"Average Tumor Volume (mm3)\")\n",
    "\n",
    "plt.savefig(\"../Images/WeightByTumorVolume.png\")\n",
    "plt.show()"
   ]
  },
  {
   "cell_type": "markdown",
   "metadata": {},
   "source": [
    "## Correlation and Regression"
   ]
  },
  {
   "cell_type": "code",
   "execution_count": 152,
   "metadata": {},
   "outputs": [
    {
     "name": "stdout",
     "output_type": "stream",
     "text": [
      "The correlation between the average tumor size and weight for a mouse on the Capomulin regimen is0.95\n"
     ]
    }
   ],
   "source": [
    "# Calculate the correlation coefficient and linear regression model for mouse weight and average tumor volume for the Capomulin regimen\n",
    "\n",
    "corr_coeff = stats.pearsonr(weight_x_axis, weight_y_axis)\n",
    "print(f\"The correlation between the average tumor size and weight for a mouse on the Capomulin regimen is {round(corr_coeff[0],2)}.\")"
   ]
  },
  {
   "cell_type": "markdown",
   "metadata": {},
   "source": [
    "### Given that the r value for the relationship between average tumor size and weight for a mouse is close to 1, we can say that there is a strong positive correlation between the two."
   ]
  },
  {
   "cell_type": "code",
   "execution_count": 145,
   "metadata": {},
   "outputs": [
    {
     "data": {
      "image/png": "[encoded data removed]",
      "text/plain": [
       "<Figure size 432x288 with 1 Axes>"
      ]
     },
     "metadata": {
      "needs_background": "light"
     },
     "output_type": "display_data"
    }
   ],
   "source": [
    "# linear regression using scipy\n",
    "(slope, intercept, rvalue, pvalue, stderr) = stats.linregress(weight_x_axis, weight_y_axis)  \n",
    "\n",
    "# finding regression values\n",
    "regress_values = weight_x_axis * slope + intercept  \n",
    "\n",
    "# finding equation of regression line\n",
    "line_equation = \"y = \" + str(round(slope,2)) + \"x + \" + str(round(intercept,2))\n",
    "\n",
    "plt.scatter(weight_x_axis, weight_y_axis, marker=\"o\",color=\"blue\")\n",
    "plt.plot(weight_x_axis, regress_values, \"--\")                                   \n",
    "plt.annotate(line_equation, (20,30) ,fontsize=12,color=\"red\")\n",
    "\n",
    "plt.title(\"Average Tumor Volume (mm3) by Weight (g)\")\n",
    "plt.xlabel(\"Weight (g)\")\n",
    "plt.ylabel(\"Average Tumor Volume (mm3)\")\n",
    "\n",
    "plt.savefig(\"../Images/RegressionWeightByTumorVolume.png\")\n",
    "plt.show()"
   ]
  }
 ],
 "metadata": {
  "anaconda-cloud": {},
  "kernelspec": {
   "display_name": "Python 3",
   "language": "python",
   "name": "python3"
  },
  "language_info": {
   "codemirror_mode": {
    "name": "ipython",
    "version": 3
   },
   "file_extension": ".py",
   "mimetype": "text/x-python",
   "name": "python",
   "nbconvert_exporter": "python",
   "pygments_lexer": "ipython3",
   "version": "3.8.5"
  }
 },
 "nbformat": 4,
 "nbformat_minor": 4
}
